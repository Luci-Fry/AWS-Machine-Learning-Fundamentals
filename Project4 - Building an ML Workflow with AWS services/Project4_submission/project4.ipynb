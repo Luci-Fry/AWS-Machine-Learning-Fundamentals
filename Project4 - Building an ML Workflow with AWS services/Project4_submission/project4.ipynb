{
 "cells": [
  {
   "cell_type": "markdown",
   "metadata": {},
   "source": [
    "# Deploy and monitor a machine learning workflow for Image Classification"
   ]
  },
  {
   "cell_type": "markdown",
   "metadata": {},
   "source": [
    "## Setting up this notebook\n",
    "\n",
    "Notes about the instance size and kernel setup: this notebook has been tested on\n",
    "\n",
    "1. The `Python 3 (Data Science)` kernel\n",
    "2. The `ml.t3.medium` Sagemaker notebook instance\n",
    "\n",
    "## Data Staging\n",
    "\n",
    "We'll use a sample dataset called CIFAR to simulate the challenges Scones Unlimited are facing in Image Classification. In order to start working with CIFAR we'll need to:\n",
    "\n",
    "1. Extract the data from a hosting service\n",
    "2. Transform it into a usable shape and format\n",
    "3. Load it into a production system\n",
    "\n",
    "In other words, we're going to do some simple ETL!\n",
    "\n",
    "### 1. Extract the data from the hosting service\n",
    "\n",
    "In the cell below, define a function `extract_cifar_data` that extracts python version of the CIFAR-100 dataset. The CIFAR dataaset is open source and generously hosted by the University of Toronto at: https://www.cs.toronto.edu/~kriz/cifar-100-python.tar.gz "
   ]
  },
  {
   "cell_type": "code",
   "execution_count": 2,
   "metadata": {
    "tags": []
   },
   "outputs": [],
   "source": [
    "import requests\n",
    "\n",
    "def extract_cifar_data(url, filename=\"cifar.tar.gz\"):\n",
    "    \"\"\"A function for extracting the CIFAR-100 dataset and storing it as a gzipped file\n",
    "    \n",
    "    Arguments:\n",
    "    url      -- the URL where the dataset is hosted\n",
    "    filename -- the full path where the dataset will be written\n",
    "    \n",
    "    \"\"\"\n",
    "    \n",
    "    # Todo: request the data from the data url\n",
    "    # Hint: use `requests.get` method\n",
    "    r = requests.get(url)\n",
    "    with open(filename, \"wb\") as file_context:\n",
    "        file_context.write(r.content)\n",
    "    return"
   ]
  },
  {
   "cell_type": "markdown",
   "metadata": {},
   "source": [
    "Let's test it out! Run the following cell and check whether a new file `cifar.tar.gz` is created in the file explorer."
   ]
  },
  {
   "cell_type": "code",
   "execution_count": 3,
   "metadata": {
    "tags": []
   },
   "outputs": [],
   "source": [
    "extract_cifar_data(\"https://www.cs.toronto.edu/~kriz/cifar-100-python.tar.gz\")     "
   ]
  },
  {
   "cell_type": "markdown",
   "metadata": {},
   "source": [
    "### 2. Transform the data into a usable shape and format\n",
    "\n",
    "Clearly, distributing the data as a gzipped archive makes sense for the hosting service! It saves on bandwidth, storage, and it's a widely-used archive format. In fact, it's so widely used that the Python community ships a utility for working with them, `tarfile`, as part of its Standard Library. Execute the following cell to decompress your extracted dataset:"
   ]
  },
  {
   "cell_type": "code",
   "execution_count": 2,
   "metadata": {
    "tags": []
   },
   "outputs": [],
   "source": [
    "import tarfile\n",
    "\n",
    "with tarfile.open(\"cifar.tar.gz\", \"r:gz\") as tar:\n",
    "    tar.extractall()"
   ]
  },
  {
   "cell_type": "markdown",
   "metadata": {},
   "source": [
    "A new folder `cifar-100-python` should be created, containing `meta`, `test`, and `train` files. These files are `pickles` and the [CIFAR homepage](https://www.cs.toronto.edu/~kriz/cifar.html) provides a simple script that can be used to load them. We've adapted the script below for you to run:"
   ]
  },
  {
   "cell_type": "code",
   "execution_count": 2,
   "metadata": {
    "tags": []
   },
   "outputs": [],
   "source": [
    "import pickle\n",
    "\n",
    "with open(\"./cifar-100-python/meta\", \"rb\") as f:\n",
    "    dataset_meta = pickle.load(f, encoding='bytes')\n",
    "\n",
    "with open(\"./cifar-100-python/test\", \"rb\") as f:\n",
    "    dataset_test = pickle.load(f, encoding='bytes')\n",
    "\n",
    "with open(\"./cifar-100-python/train\", \"rb\") as f:\n",
    "    dataset_train = pickle.load(f, encoding='bytes')"
   ]
  },
  {
   "cell_type": "code",
   "execution_count": 3,
   "metadata": {
    "tags": []
   },
   "outputs": [
    {
     "data": {
      "text/plain": [
       "dict_keys([b'filenames', b'batch_label', b'fine_labels', b'coarse_labels', b'data'])"
      ]
     },
     "execution_count": 3,
     "metadata": {},
     "output_type": "execute_result"
    }
   ],
   "source": [
    "# Feel free to explore the datasets\n",
    "\n",
    "dataset_train.keys()"
   ]
  },
  {
   "cell_type": "markdown",
   "metadata": {},
   "source": [
    "As documented on the homepage, `b'data'` contains rows of 3073 unsigned integers, representing three channels (red, green, and blue) for one 32x32 pixel image per row."
   ]
  },
  {
   "cell_type": "code",
   "execution_count": 4,
   "metadata": {
    "tags": []
   },
   "outputs": [
    {
     "data": {
      "text/plain": [
       "3072"
      ]
     },
     "execution_count": 4,
     "metadata": {},
     "output_type": "execute_result"
    }
   ],
   "source": [
    "32*32*3"
   ]
  },
  {
   "cell_type": "markdown",
   "metadata": {},
   "source": [
    "For a simple gut-check, let's transform one of our images. Each 1024 items in a row is a channel (red, green, then blue). Each 32 items in the channel are a row in the 32x32 image. Using python, we can stack these channels into a 32x32x3 array, and save it as a PNG file:"
   ]
  },
  {
   "cell_type": "code",
   "execution_count": 5,
   "metadata": {
    "tags": []
   },
   "outputs": [],
   "source": [
    "import numpy as np\n",
    "\n",
    "# Each 1024 in a row is a channel (red, green, then blue)\n",
    "row = dataset_train[b'data'][0]\n",
    "red, green, blue = row[0:1024], row[1024:2048], row[2048:]\n",
    "\n",
    "# Each 32 items in the channel are a row in the 32x32 image\n",
    "red = red.reshape(32,32)\n",
    "green = green.reshape(32,32)\n",
    "blue = blue.reshape(32,32)\n",
    "\n",
    "# Combine the channels into a 32x32x3 image!\n",
    "combined = np.dstack((red,green,blue))"
   ]
  },
  {
   "cell_type": "markdown",
   "metadata": {},
   "source": [
    "For a more concise version, consider the following:"
   ]
  },
  {
   "cell_type": "code",
   "execution_count": 6,
   "metadata": {
    "tags": []
   },
   "outputs": [],
   "source": [
    "# All in one:\n",
    "test_image = np.dstack((\n",
    "    row[0:1024].reshape(32,32),\n",
    "    row[1024:2048].reshape(32,32),\n",
    "    row[2048:].reshape(32,32)\n",
    "))"
   ]
  },
  {
   "cell_type": "code",
   "execution_count": 7,
   "metadata": {
    "tags": []
   },
   "outputs": [],
   "source": [
    "%matplotlib inline"
   ]
  },
  {
   "cell_type": "code",
   "execution_count": 8,
   "metadata": {
    "tags": []
   },
   "outputs": [
    {
     "data": {
      "image/png": "[encoded data removed]",
      "text/plain": [
       "<Figure size 640x480 with 1 Axes>"
      ]
     },
     "metadata": {},
     "output_type": "display_data"
    }
   ],
   "source": [
    "import matplotlib.pyplot as plt\n",
    "plt.imshow(test_image);"
   ]
  },
  {
   "cell_type": "markdown",
   "metadata": {},
   "source": [
    "Looks like a cow! Let's check the label. `dataset_meta` contains label names in order, and `dataset_train` has a list of labels for each row."
   ]
  },
  {
   "cell_type": "code",
   "execution_count": 9,
   "metadata": {
    "tags": []
   },
   "outputs": [
    {
     "data": {
      "text/plain": [
       "19"
      ]
     },
     "execution_count": 9,
     "metadata": {},
     "output_type": "execute_result"
    }
   ],
   "source": [
    "dataset_train[b'fine_labels'][0]"
   ]
  },
  {
   "cell_type": "markdown",
   "metadata": {},
   "source": [
    "Our image has a label of `19`, so let's see what the 19th item is in the list of label names."
   ]
  },
  {
   "cell_type": "code",
   "execution_count": 10,
   "metadata": {
    "tags": []
   },
   "outputs": [
    {
     "name": "stdout",
     "output_type": "stream",
     "text": [
      "b'cattle'\n"
     ]
    }
   ],
   "source": [
    "print(dataset_meta[b'fine_label_names'][19])"
   ]
  },
  {
   "cell_type": "markdown",
   "metadata": {},
   "source": [
    "Ok! 'cattle' sounds about right. By the way, using the previous two lines we can do:"
   ]
  },
  {
   "cell_type": "code",
   "execution_count": 11,
   "metadata": {
    "tags": []
   },
   "outputs": [
    {
     "name": "stdout",
     "output_type": "stream",
     "text": [
      "b'cattle'\n"
     ]
    }
   ],
   "source": [
    "n = 0\n",
    "print(dataset_meta[b'fine_label_names'][dataset_train[b'fine_labels'][n]])"
   ]
  },
  {
   "cell_type": "markdown",
   "metadata": {},
   "source": [
    "Now we know how to check labels, is there a way that we can also check file names? `dataset_train` also contains a `b'filenames'` key. Let's see what we have here:"
   ]
  },
  {
   "cell_type": "code",
   "execution_count": 12,
   "metadata": {
    "tags": []
   },
   "outputs": [
    {
     "name": "stdout",
     "output_type": "stream",
     "text": [
      "b'bos_taurus_s_000507.png'\n"
     ]
    }
   ],
   "source": [
    "print(dataset_train[b'filenames'][0])"
   ]
  },
  {
   "cell_type": "markdown",
   "metadata": {},
   "source": [
    "\"Taurus\" is the name of a subspecies of cattle, so this looks like a pretty reasonable filename. To save an image we can also do:"
   ]
  },
  {
   "cell_type": "code",
   "execution_count": 13,
   "metadata": {
    "tags": []
   },
   "outputs": [],
   "source": [
    "plt.imsave(\"file.png\", test_image)"
   ]
  },
  {
   "cell_type": "markdown",
   "metadata": {},
   "source": [
    "Your new PNG file should now appear in the file explorer -- go ahead and pop it open to see!\n",
    "\n",
    "Now that you know how to reshape the images, save them as files, and capture their filenames and labels, let's just capture all the bicycles and motorcycles and save them. Scones Unlimited can use a model that tells these apart to route delivery drivers automatically.\n",
    "\n",
    "In the following cell, identify the label numbers for Bicycles and Motorcycles:"
   ]
  },
  {
   "cell_type": "code",
   "execution_count": 14,
   "metadata": {
    "tags": []
   },
   "outputs": [
    {
     "name": "stdout",
     "output_type": "stream",
     "text": [
      "8\n",
      "48\n"
     ]
    }
   ],
   "source": [
    "import pandas as pd\n",
    "\n",
    "# Todo: Filter the dataset_train and dataset_meta objects to find the label numbers for Bicycle and Motorcycles\n",
    "\n",
    "bicycle_index = dataset_meta[b'fine_label_names'].index(b'bicycle')\n",
    "motocycle_index = dataset_meta[b'fine_label_names'].index(b'motorcycle')\n",
    "\n",
    "print (bicycle_index)\n",
    "print(motocycle_index)\n",
    "\n",
    "\n"
   ]
  },
  {
   "cell_type": "markdown",
   "metadata": {},
   "source": [
    "Good job! We only need objects with label 8 and 48 -- this drastically simplifies our handling of the data! Below we construct a dataframe for you, and you can safely drop the rows that don't contain observations about bicycles and motorcycles. Fill in the missing lines below to drop all other rows:"
   ]
  },
  {
   "cell_type": "code",
   "execution_count": 15,
   "metadata": {
    "tags": []
   },
   "outputs": [],
   "source": [
    "#Construct the dataframe\n",
    "df_train = pd.DataFrame({\n",
    "    \"filenames\": dataset_train[b'filenames'],\n",
    "    \"labels\": dataset_train[b'fine_labels'],\n",
    "    \"row\": range(len(dataset_train[b'filenames']))\n",
    "})\n",
    "\n",
    "# Drop all rows from df_train where label is not 8 or 48\n",
    "df_train = df_train.loc[df_train[\"labels\"].isin([8,48])]\n",
    "                                        #TODO: Fill in\n",
    "\n",
    "# Decode df_train.filenames so they are regular strings\n",
    "df_train[\"filenames\"] = df_train[\"filenames\"].apply(\n",
    "    lambda x: x.decode(\"utf-8\")\n",
    ")\n",
    "\n",
    "\n",
    "df_test = pd.DataFrame({\n",
    "    \"filenames\": dataset_test[b'filenames'],\n",
    "    \"labels\": dataset_test[b'fine_labels'],\n",
    "    \"row\": range(len(dataset_test[b'filenames']))\n",
    "})\n",
    "\n",
    "# Drop all rows from df_test where label is not 8 or 48\n",
    "df_test = df_test.loc[df_test[\"labels\"].isin([8,48])]\n",
    "# Decode df_test.filenames so they are regular strings\n",
    "df_test[\"filenames\"] = df_test[\"filenames\"].apply(\n",
    "    lambda x: x.decode(\"utf-8\")\n",
    ")"
   ]
  },
  {
   "cell_type": "code",
   "execution_count": 16,
   "metadata": {
    "tags": []
   },
   "outputs": [
    {
     "name": "stdout",
     "output_type": "stream",
     "text": [
      "(1000, 3)\n",
      "(200, 3)\n"
     ]
    }
   ],
   "source": [
    "#tests \n",
    "print(df_train.shape)\n",
    "print(df_test.shape)"
   ]
  },
  {
   "cell_type": "markdown",
   "metadata": {},
   "source": [
    "Now that the data is filtered for just our classes, we can save all our images."
   ]
  },
  {
   "cell_type": "code",
   "execution_count": 17,
   "metadata": {
    "tags": []
   },
   "outputs": [
    {
     "name": "stdout",
     "output_type": "stream",
     "text": [
      "mkdir: cannot create directory ‘./train’: File exists\n",
      "mkdir: cannot create directory ‘./test’: File exists\n"
     ]
    }
   ],
   "source": [
    "!mkdir ./train\n",
    "!mkdir ./test"
   ]
  },
  {
   "cell_type": "markdown",
   "metadata": {},
   "source": [
    "In the previous sections we introduced you to several key snippets of code:\n",
    "\n",
    "1. Grabbing the image data:\n",
    "\n",
    "```python\n",
    "dataset_train[b'data'][0]\n",
    "```\n",
    "\n",
    "2. A simple idiom for stacking the image data into the right shape\n",
    "\n",
    "```python\n",
    "import numpy as np\n",
    "np.dstack((\n",
    "    row[0:1024].reshape(32,32),\n",
    "    row[1024:2048].reshape(32,32),\n",
    "    row[2048:].reshape(32,32)\n",
    "))\n",
    "```\n",
    "\n",
    "3. A simple `matplotlib` utility for saving images\n",
    "\n",
    "```python\n",
    "plt.imsave(path+row['filenames'], target)\n",
    "```\n",
    "\n",
    "Compose these together into a function that saves all the images into the `./test` and `./train` directories. Use the comments in the body of the `save_images` function below to guide your construction of the function:\n"
   ]
  },
  {
   "cell_type": "code",
   "execution_count": 18,
   "metadata": {},
   "outputs": [],
   "source": [
    "def save_images(dataset, row, path):\n",
    "    #Grab the image data in row-major form\n",
    "    img = dataset[b'data'][row.row]\n",
    "    \n",
    "    # Consolidated stacking/reshaping from earlier\n",
    "    target = np.dstack(img.reshape(3,32,32))\n",
    "    \n",
    "    # Save the image\n",
    "    plt.imsave(path+row['filenames'], target)\n",
    "    \n",
    "    # Return any signal data you want for debugging\n",
    "    return 0\n",
    "\n",
    "## TODO: save ALL images using the save_images function\n",
    "for idx, row in df_train.iterrows():\n",
    "    save_images(dataset_train, row, './train/')\n",
    "    \n",
    "for idx, row in df_test.iterrows():\n",
    "    save_images(dataset_test, row, './test/')"
   ]
  },
  {
   "cell_type": "markdown",
   "metadata": {},
   "source": [
    "### 3. Load the data\n",
    "\n",
    "Now we can load the data into S3.\n",
    "\n",
    "Using the sagemaker SDK grab the current region, execution role, and bucket."
   ]
  },
  {
   "cell_type": "code",
   "execution_count": 3,
   "metadata": {},
   "outputs": [
    {
     "name": "stdout",
     "output_type": "stream",
     "text": [
      "sagemaker.config INFO - Not applying SDK defaults from location: /etc/xdg/sagemaker/config.yaml\n",
      "sagemaker.config INFO - Not applying SDK defaults from location: /root/.config/sagemaker/config.yaml\n",
      "Default Bucket: sagemaker-us-east-1-114161389887\n",
      "AWS Region: us-east-1\n",
      "sagemaker.config INFO - Not applying SDK defaults from location: /etc/xdg/sagemaker/config.yaml\n",
      "sagemaker.config INFO - Not applying SDK defaults from location: /root/.config/sagemaker/config.yaml\n",
      "RoleArn: arn:aws:iam::114161389887:role/service-role/AmazonSageMaker-ExecutionRole-20231020T204467\n"
     ]
    }
   ],
   "source": [
    "import sagemaker\n",
    "from sagemaker import get_execution_role\n",
    "\n",
    "session = sagemaker.Session()\n",
    "\n",
    "bucket= session.default_bucket()## TODO: fill in\n",
    "print(\"Default Bucket: {}\".format(bucket))\n",
    "\n",
    "region = session.boto_region_name## TODO: fill in\n",
    "print(\"AWS Region: {}\".format(region))\n",
    "\n",
    "role = get_execution_role()## TODO: fill in\n",
    "print(\"RoleArn: {}\".format(role))"
   ]
  },
  {
   "cell_type": "markdown",
   "metadata": {},
   "source": [
    "With this data we can easily sync your data up into S3!"
   ]
  },
  {
   "cell_type": "code",
   "execution_count": null,
   "metadata": {},
   "outputs": [],
   "source": [
    "import os\n",
    "\n",
    "os.environ[\"DEFAULT_S3_BUCKET\"] = bucket\n",
    "!aws s3 sync ./train s3://${DEFAULT_S3_BUCKET}/train/\n",
    "!aws s3 sync ./test s3://${DEFAULT_S3_BUCKET}/test/"
   ]
  },
  {
   "cell_type": "markdown",
   "metadata": {},
   "source": [
    "And that's it! You can check the bucket and verify that the items were uploaded.\n",
    "\n",
    "## Model Training\n",
    "\n",
    "For Image Classification, Sagemaker [also expects metadata](https://docs.aws.amazon.com/sagemaker/latest/dg/image-classification.html) e.g. in the form of TSV files with labels and filepaths. We can generate these using our Pandas DataFrames from earlier:"
   ]
  },
  {
   "cell_type": "code",
   "execution_count": 22,
   "metadata": {},
   "outputs": [],
   "source": [
    "def to_metadata_file(df, prefix):\n",
    "    df[\"s3_path\"] = df[\"filenames\"]\n",
    "    df[\"labels\"] = df[\"labels\"].apply(lambda x: 0 if x==8 else 1)\n",
    "    return df[[\"row\", \"labels\", \"s3_path\"]].to_csv(\n",
    "        f\"{prefix}.lst\", sep=\"\\t\", index=False, header=False\n",
    "    )\n",
    "    \n",
    "to_metadata_file(df_train.copy(), \"train\")\n",
    "to_metadata_file(df_test.copy(), \"test\")"
   ]
  },
  {
   "cell_type": "markdown",
   "metadata": {},
   "source": [
    "We can also upload our manifest files:"
   ]
  },
  {
   "cell_type": "code",
   "execution_count": 23,
   "metadata": {},
   "outputs": [],
   "source": [
    "import boto3\n",
    "\n",
    "# Upload files\n",
    "boto3.Session().resource('s3').Bucket(\n",
    "    bucket).Object('train.lst').upload_file('./train.lst')\n",
    "boto3.Session().resource('s3').Bucket(\n",
    "    bucket).Object('test.lst').upload_file('./test.lst')"
   ]
  },
  {
   "cell_type": "markdown",
   "metadata": {},
   "source": [
    "Using the `bucket` and `region` info we can get the latest prebuilt container to run our training job, and define an output location on our s3 bucket for the model. Use the `image_uris` function from the SageMaker SDK to retrieve the latest `image-classification` image below:"
   ]
  },
  {
   "cell_type": "code",
   "execution_count": 24,
   "metadata": {},
   "outputs": [],
   "source": [
    "# Use the image_uris function to retrieve the latest 'image-classification' image \n",
    "from sagemaker import image_uris\n",
    "\n",
    "algo_image = image_uris.retrieve(framework = 'image-classification', region = region)## TODO: fill in\n",
    "s3_output_location = f\"s3://{bucket}/models/image_model\""
   ]
  },
  {
   "cell_type": "markdown",
   "metadata": {},
   "source": [
    "We're ready to create an estimator! Create an estimator `img_classifier_model` that uses one instance of `ml.g4dn.xlarge`. Ensure that y ou use the output location we defined above - we'll be referring to that later!"
   ]
  },
  {
   "cell_type": "code",
   "execution_count": 25,
   "metadata": {},
   "outputs": [],
   "source": [
    "prefix = 's3://sagemaker-us-east-1-114161389887/'\n",
    "img_classifier_model=sagemaker.estimator.Estimator(\n",
    "    ## TODO: define your estimator options\n",
    "    algo_image, \n",
    "    role, \n",
    "    instance_count = 1, \n",
    "    instance_type = 'ml.g4dn.xlarge', \n",
    "    output_path = s3_output_location, \n",
    "    sagemaker_session = session)\n"
   ]
  },
  {
   "cell_type": "markdown",
   "metadata": {},
   "source": [
    "We can also set a few key hyperparameters and define the inputs for our model:"
   ]
  },
  {
   "cell_type": "code",
   "execution_count": 26,
   "metadata": {},
   "outputs": [],
   "source": [
    "img_classifier_model.set_hyperparameters(\n",
    "    image_shape='3,32,32', # TODO: Fill in\n",
    "    num_classes=2, # TODO: Fill in\n",
    "    num_training_samples=1000, \n",
    "    epochs = 28# TODO: fill in\n",
    ")"
   ]
  },
  {
   "cell_type": "markdown",
   "metadata": {},
   "source": [
    "The `image-classification` image uses four input channels with very specific input parameters. For convenience, we've provided them below:"
   ]
  },
  {
   "cell_type": "code",
   "execution_count": 27,
   "metadata": {},
   "outputs": [],
   "source": [
    "from sagemaker.debugger import Rule, rule_configs\n",
    "from sagemaker.session import TrainingInput\n",
    "model_inputs = {\n",
    "        \"train\": sagemaker.inputs.TrainingInput(\n",
    "            s3_data=f\"s3://{bucket}/train/\",\n",
    "            content_type=\"application/x-image\"\n",
    "        ),\n",
    "        \"validation\": sagemaker.inputs.TrainingInput(\n",
    "            s3_data=f\"s3://{bucket}/test/\",\n",
    "            content_type=\"application/x-image\"\n",
    "        ),\n",
    "        \"train_lst\": sagemaker.inputs.TrainingInput(\n",
    "            s3_data=f\"s3://{bucket}/train.lst\",\n",
    "            content_type=\"application/x-image\"\n",
    "        ),\n",
    "        \"validation_lst\": sagemaker.inputs.TrainingInput(\n",
    "            s3_data=f\"s3://{bucket}/test.lst\",\n",
    "            content_type=\"application/x-image\"\n",
    "        )\n",
    "}"
   ]
  },
  {
   "cell_type": "markdown",
   "metadata": {},
   "source": [
    "Great, now we can train the model using the model_inputs. In the cell below, call the `fit` method on our model,:"
   ]
  },
  {
   "cell_type": "code",
   "execution_count": 28,
   "metadata": {},
   "outputs": [
    {
     "name": "stderr",
     "output_type": "stream",
     "text": [
      "INFO:sagemaker:Creating training-job with name: image-classification-2023-10-27-09-32-56-112\n"
     ]
    },
    {
     "name": "stdout",
     "output_type": "stream",
     "text": [
      "2023-10-27 09:32:56 Starting - Starting the training job...\n",
      "2023-10-27 09:33:12 Starting - Preparing the instances for training......\n",
      "2023-10-27 09:34:24 Downloading - Downloading input data...\n",
      "2023-10-27 09:34:54 Training - Downloading the training image....................................\n",
      "2023-10-27 09:40:51 Training - Training image download completed. Training in progress..\u001b[34mDocker entrypoint called with argument(s): train\u001b[0m\n",
      "\u001b[34mRunning default environment configuration script\u001b[0m\n",
      "\u001b[34mNvidia gpu devices, drivers and cuda toolkit versions (only available on hosts with GPU):\u001b[0m\n",
      "\u001b[34mFri Oct 27 09:41:03 2023       \u001b[0m\n",
      "\u001b[34m+---------------------------------------------------------------------------------------+\u001b[0m\n",
      "\u001b[34m| NVIDIA-SMI 535.104.12             Driver Version: 535.104.12   CUDA Version: 12.2     |\u001b[0m\n",
      "\u001b[34m|-----------------------------------------+----------------------+----------------------+\u001b[0m\n",
      "\u001b[34m| GPU  Name                 Persistence-M | Bus-Id        Disp.A | Volatile Uncorr. ECC |\u001b[0m\n",
      "\u001b[34m| Fan  Temp   Perf          Pwr:Usage/Cap |         Memory-Usage | GPU-Util  Compute M. |\u001b[0m\n",
      "\u001b[34m|                                         |                      |               MIG M. |\u001b[0m\n",
      "\u001b[34m|=========================================+======================+======================|\u001b[0m\n",
      "\u001b[34m|   0  Tesla T4                       On  | 00000000:00:1E.0 Off |                    0 |\u001b[0m\n",
      "\u001b[34m| N/A   23C    P8               9W /  70W |      0MiB / 15360MiB |      0%      Default |\u001b[0m\n",
      "\u001b[34m|                                         |                      |                  N/A |\u001b[0m\n",
      "\u001b[34m+-----------------------------------------+----------------------+----------------------+\n",
      "                                                                                         \u001b[0m\n",
      "\u001b[34m+---------------------------------------------------------------------------------------+\u001b[0m\n",
      "\u001b[34m| Processes:                                                                            |\u001b[0m\n",
      "\u001b[34m|  GPU   GI   CI        PID   Type   Process name                            GPU Memory |\u001b[0m\n",
      "\u001b[34m|        ID   ID                                                             Usage      |\u001b[0m\n",
      "\u001b[34m|=======================================================================================|\u001b[0m\n",
      "\u001b[34m|  No running processes found                                                           |\u001b[0m\n",
      "\u001b[34m+---------------------------------------------------------------------------------------+\u001b[0m\n",
      "\u001b[34mChecking for nvidia driver and cuda compatibility.\u001b[0m\n",
      "\u001b[34mCUDA Compatibility driver provided.\u001b[0m\n",
      "\u001b[34mProceeding with compatibility check between driver, cuda-toolkit and cuda-compat.\u001b[0m\n",
      "\u001b[34mDetected cuda-toolkit version: 11.1.\u001b[0m\n",
      "\u001b[34mDetected cuda-compat version: 455.32.00.\u001b[0m\n",
      "\u001b[34mDetected Nvidia driver version: 535.104.12.\u001b[0m\n",
      "\u001b[34mNvidia driver compatible with cuda-toolkit. Disabling cuda-compat.\u001b[0m\n",
      "\u001b[34m/opt/amazon/lib/python3.8/site-packages/mxnet/model.py:97: SyntaxWarning: \"is\" with a literal. Did you mean \"==\"?\n",
      "  if num_device is 1 and 'dist' not in kvstore:\u001b[0m\n",
      "\u001b[34m[10/27/2023 09:41:06 INFO 139624957740864] Reading default configuration from /opt/amazon/lib/python3.8/site-packages/image_classification/default-input.json: {'use_pretrained_model': 0, 'num_layers': 152, 'epochs': 30, 'learning_rate': 0.1, 'lr_scheduler_factor': 0.1, 'optimizer': 'sgd', 'momentum': 0, 'weight_decay': 0.0001, 'beta_1': 0.9, 'beta_2': 0.999, 'eps': 1e-08, 'gamma': 0.9, 'mini_batch_size': 32, 'image_shape': '3,224,224', 'precision_dtype': 'float32'}\u001b[0m\n",
      "\u001b[34m[10/27/2023 09:41:06 INFO 139624957740864] Merging with provided configuration from /opt/ml/input/config/hyperparameters.json: {'epochs': '28', 'image_shape': '3,32,32', 'num_classes': '2', 'num_training_samples': '1000'}\u001b[0m\n",
      "\u001b[34m[10/27/2023 09:41:06 INFO 139624957740864] Final configuration: {'use_pretrained_model': 0, 'num_layers': 152, 'epochs': '28', 'learning_rate': 0.1, 'lr_scheduler_factor': 0.1, 'optimizer': 'sgd', 'momentum': 0, 'weight_decay': 0.0001, 'beta_1': 0.9, 'beta_2': 0.999, 'eps': 1e-08, 'gamma': 0.9, 'mini_batch_size': 32, 'image_shape': '3,32,32', 'precision_dtype': 'float32', 'num_classes': '2', 'num_training_samples': '1000'}\u001b[0m\n",
      "\u001b[34m[10/27/2023 09:41:06 INFO 139624957740864] Searching for .lst files in /opt/ml/input/data/train_lst.\u001b[0m\n",
      "\u001b[34m[10/27/2023 09:41:06 INFO 139624957740864] Creating record files for train.lst\u001b[0m\n",
      "\u001b[34m[10/27/2023 09:41:06 INFO 139624957740864] Done creating record files...\u001b[0m\n",
      "\u001b[34m[10/27/2023 09:41:06 INFO 139624957740864] Searching for .lst files in /opt/ml/input/data/validation_lst.\u001b[0m\n",
      "\u001b[34m[10/27/2023 09:41:06 INFO 139624957740864] Creating record files for test.lst\u001b[0m\n",
      "\u001b[34m[10/27/2023 09:41:07 INFO 139624957740864] Done creating record files...\u001b[0m\n",
      "\u001b[34m[10/27/2023 09:41:07 INFO 139624957740864] use_pretrained_model: 0\u001b[0m\n",
      "\u001b[34m[10/27/2023 09:41:07 INFO 139624957740864] multi_label: 0\u001b[0m\n",
      "\u001b[34m[10/27/2023 09:41:07 INFO 139624957740864] Performing random weight initialization\u001b[0m\n",
      "\u001b[34m[10/27/2023 09:41:07 INFO 139624957740864] ---- Parameters ----\u001b[0m\n",
      "\u001b[34m[10/27/2023 09:41:07 INFO 139624957740864] num_layers: 152\u001b[0m\n",
      "\u001b[34m[10/27/2023 09:41:07 INFO 139624957740864] data type: <class 'numpy.float32'>\u001b[0m\n",
      "\u001b[34m[10/27/2023 09:41:07 INFO 139624957740864] epochs: 28\u001b[0m\n",
      "\u001b[34m[10/27/2023 09:41:07 INFO 139624957740864] optimizer: sgd\u001b[0m\n",
      "\u001b[34m[10/27/2023 09:41:07 INFO 139624957740864] momentum: 0.9\u001b[0m\n",
      "\u001b[34m[10/27/2023 09:41:07 INFO 139624957740864] weight_decay: 0.0001\u001b[0m\n",
      "\u001b[34m[10/27/2023 09:41:07 INFO 139624957740864] learning_rate: 0.1\u001b[0m\n",
      "\u001b[34m[10/27/2023 09:41:07 INFO 139624957740864] num_training_samples: 1000\u001b[0m\n",
      "\u001b[34m[10/27/2023 09:41:07 INFO 139624957740864] mini_batch_size: 32\u001b[0m\n",
      "\u001b[34m[10/27/2023 09:41:07 INFO 139624957740864] image_shape: 3,32,32\u001b[0m\n",
      "\u001b[34m[10/27/2023 09:41:07 INFO 139624957740864] num_classes: 2\u001b[0m\n",
      "\u001b[34m[10/27/2023 09:41:07 INFO 139624957740864] augmentation_type: None\u001b[0m\n",
      "\u001b[34m[10/27/2023 09:41:07 INFO 139624957740864] kv_store: device\u001b[0m\n",
      "\u001b[34m[10/27/2023 09:41:07 INFO 139624957740864] checkpoint_frequency not set, will store the best model\u001b[0m\n",
      "\u001b[34m[10/27/2023 09:41:07 INFO 139624957740864] --------------------\u001b[0m\n",
      "\u001b[34m/opt/amazon/python3.8/lib/python3.8/subprocess.py:848: RuntimeWarning: line buffering (buffering=1) isn't supported in binary mode, the default buffer size will be used\n",
      "  self.stdout = io.open(c2pread, 'rb', bufsize)\u001b[0m\n",
      "\u001b[34m[10/27/2023 09:41:07 INFO 139624957740864] Setting number of threads: 3\u001b[0m\n",
      "\u001b[34m[09:41:11] /opt/brazil-pkg-cache/packages/AIAlgorithmsMXNet/AIAlgorithmsMXNet-1.4.x_ecl_Cuda_11.1.x.293.0/AL2_x86_64/generic-flavor/src/src/operator/nn/./cudnn/./cudnn_algoreg-inl.h:97: Running performance tests to find the best convolution algorithm, this can take a while... (setting env variable MXNET_CUDNN_AUTOTUNE_DEFAULT to 0 to disable)\u001b[0m\n",
      "\u001b[34m[10/27/2023 09:41:21 INFO 139624957740864] Epoch[0] Batch [20]#011Speed: 60.626 samples/sec#011accuracy=0.561012\u001b[0m\n",
      "\u001b[34m[10/27/2023 09:41:25 INFO 139624957740864] Epoch[0] Train-accuracy=0.618952\u001b[0m\n",
      "\u001b[34m[10/27/2023 09:41:25 INFO 139624957740864] Epoch[0] Time cost=13.648\u001b[0m\n",
      "\u001b[34m[10/27/2023 09:41:25 INFO 139624957740864] Epoch[0] Validation-accuracy=0.500000\u001b[0m\n",
      "\u001b[34m[10/27/2023 09:41:26 INFO 139624957740864] Storing the best model with validation accuracy: 0.500000\u001b[0m\n",
      "\u001b[34m[10/27/2023 09:41:26 INFO 139624957740864] Saved checkpoint to \"/opt/ml/model/image-classification-0001.params\"\u001b[0m\n",
      "\u001b[34m[10/27/2023 09:41:32 INFO 139624957740864] Epoch[1] Batch [20]#011Speed: 100.306 samples/sec#011accuracy=0.671131\u001b[0m\n",
      "\u001b[34m[10/27/2023 09:41:35 INFO 139624957740864] Epoch[1] Train-accuracy=0.672379\u001b[0m\n",
      "\u001b[34m[10/27/2023 09:41:35 INFO 139624957740864] Epoch[1] Time cost=9.455\u001b[0m\n",
      "\u001b[34m[10/27/2023 09:41:36 INFO 139624957740864] Epoch[1] Validation-accuracy=0.562500\u001b[0m\n",
      "\u001b[34m[10/27/2023 09:41:36 INFO 139624957740864] Storing the best model with validation accuracy: 0.562500\u001b[0m\n",
      "\u001b[34m[10/27/2023 09:41:37 INFO 139624957740864] Saved checkpoint to \"/opt/ml/model/image-classification-0002.params\"\u001b[0m\n",
      "\u001b[34m[10/27/2023 09:41:43 INFO 139624957740864] Epoch[2] Batch [20]#011Speed: 102.105 samples/sec#011accuracy=0.677083\u001b[0m\n",
      "\u001b[34m[10/27/2023 09:41:46 INFO 139624957740864] Epoch[2] Train-accuracy=0.664315\u001b[0m\n",
      "\u001b[34m[10/27/2023 09:41:46 INFO 139624957740864] Epoch[2] Time cost=9.306\u001b[0m\n",
      "\u001b[34m[10/27/2023 09:41:47 INFO 139624957740864] Epoch[2] Validation-accuracy=0.708333\u001b[0m\n",
      "\u001b[34m[10/27/2023 09:41:47 INFO 139624957740864] Storing the best model with validation accuracy: 0.708333\u001b[0m\n",
      "\u001b[34m[10/27/2023 09:41:48 INFO 139624957740864] Saved checkpoint to \"/opt/ml/model/image-classification-0003.params\"\u001b[0m\n",
      "\u001b[34m[10/27/2023 09:41:54 INFO 139624957740864] Epoch[3] Batch [20]#011Speed: 102.856 samples/sec#011accuracy=0.739583\u001b[0m\n",
      "\u001b[34m[10/27/2023 09:41:57 INFO 139624957740864] Epoch[3] Train-accuracy=0.763105\u001b[0m\n",
      "\u001b[34m[10/27/2023 09:41:57 INFO 139624957740864] Epoch[3] Time cost=9.295\u001b[0m\n",
      "\u001b[34m[10/27/2023 09:41:58 INFO 139624957740864] Epoch[3] Validation-accuracy=0.812500\u001b[0m\n",
      "\u001b[34m[10/27/2023 09:41:58 INFO 139624957740864] Storing the best model with validation accuracy: 0.812500\u001b[0m\n",
      "\u001b[34m[10/27/2023 09:41:58 INFO 139624957740864] Saved checkpoint to \"/opt/ml/model/image-classification-0004.params\"\u001b[0m\n",
      "\u001b[34m[10/27/2023 09:42:05 INFO 139624957740864] Epoch[4] Batch [20]#011Speed: 98.729 samples/sec#011accuracy=0.788690\u001b[0m\n",
      "\u001b[34m[10/27/2023 09:42:08 INFO 139624957740864] Epoch[4] Train-accuracy=0.775202\u001b[0m\n",
      "\u001b[34m[10/27/2023 09:42:08 INFO 139624957740864] Epoch[4] Time cost=9.555\u001b[0m\n",
      "\u001b[34m[10/27/2023 09:42:09 INFO 139624957740864] Epoch[4] Validation-accuracy=0.822917\u001b[0m\n",
      "\u001b[34m[10/27/2023 09:42:09 INFO 139624957740864] Storing the best model with validation accuracy: 0.822917\u001b[0m\n",
      "\u001b[34m[10/27/2023 09:42:09 INFO 139624957740864] Saved checkpoint to \"/opt/ml/model/image-classification-0005.params\"\u001b[0m\n",
      "\u001b[34m[10/27/2023 09:42:16 INFO 139624957740864] Epoch[5] Batch [20]#011Speed: 102.574 samples/sec#011accuracy=0.785714\u001b[0m\n",
      "\u001b[34m[10/27/2023 09:42:19 INFO 139624957740864] Epoch[5] Train-accuracy=0.765121\u001b[0m\n",
      "\u001b[34m[10/27/2023 09:42:19 INFO 139624957740864] Epoch[5] Time cost=9.293\u001b[0m\n",
      "\u001b[34m[10/27/2023 09:42:19 INFO 139624957740864] Epoch[5] Validation-accuracy=0.791667\u001b[0m\n",
      "\u001b[34m[10/27/2023 09:42:26 INFO 139624957740864] Epoch[6] Batch [20]#011Speed: 101.198 samples/sec#011accuracy=0.799107\u001b[0m\n",
      "\u001b[34m[10/27/2023 09:42:29 INFO 139624957740864] Epoch[6] Train-accuracy=0.798387\u001b[0m\n",
      "\u001b[34m[10/27/2023 09:42:29 INFO 139624957740864] Epoch[6] Time cost=9.405\u001b[0m\n",
      "\u001b[34m[10/27/2023 09:42:30 INFO 139624957740864] Epoch[6] Validation-accuracy=0.822917\u001b[0m\n",
      "\u001b[34m[10/27/2023 09:42:37 INFO 139624957740864] Epoch[7] Batch [20]#011Speed: 100.222 samples/sec#011accuracy=0.813988\u001b[0m\n",
      "\u001b[34m[10/27/2023 09:42:40 INFO 139624957740864] Epoch[7] Train-accuracy=0.814516\u001b[0m\n",
      "\u001b[34m[10/27/2023 09:42:40 INFO 139624957740864] Epoch[7] Time cost=9.474\u001b[0m\n",
      "\u001b[34m[10/27/2023 09:42:41 INFO 139624957740864] Epoch[7] Validation-accuracy=0.816964\u001b[0m\n",
      "\u001b[34m[10/27/2023 09:42:48 INFO 139624957740864] Epoch[8] Batch [20]#011Speed: 99.142 samples/sec#011accuracy=0.821429\u001b[0m\n",
      "\u001b[34m[10/27/2023 09:42:51 INFO 139624957740864] Epoch[8] Train-accuracy=0.820565\u001b[0m\n",
      "\u001b[34m[10/27/2023 09:42:51 INFO 139624957740864] Epoch[8] Time cost=9.539\u001b[0m\n",
      "\u001b[34m[10/27/2023 09:42:52 INFO 139624957740864] Epoch[8] Validation-accuracy=0.822917\u001b[0m\n",
      "\u001b[34m[10/27/2023 09:42:58 INFO 139624957740864] Epoch[9] Batch [20]#011Speed: 99.754 samples/sec#011accuracy=0.819940\u001b[0m\n",
      "\u001b[34m[10/27/2023 09:43:01 INFO 139624957740864] Epoch[9] Train-accuracy=0.816532\u001b[0m\n",
      "\u001b[34m[10/27/2023 09:43:01 INFO 139624957740864] Epoch[9] Time cost=9.504\u001b[0m\n",
      "\u001b[34m[10/27/2023 09:43:02 INFO 139624957740864] Epoch[9] Validation-accuracy=0.802083\u001b[0m\n",
      "\u001b[34m[10/27/2023 09:43:09 INFO 139624957740864] Epoch[10] Batch [20]#011Speed: 98.588 samples/sec#011accuracy=0.849702\u001b[0m\n",
      "\u001b[34m[10/27/2023 09:43:12 INFO 139624957740864] Epoch[10] Train-accuracy=0.853831\u001b[0m\n",
      "\u001b[34m[10/27/2023 09:43:12 INFO 139624957740864] Epoch[10] Time cost=9.582\u001b[0m\n",
      "\u001b[34m[10/27/2023 09:43:13 INFO 139624957740864] Epoch[10] Validation-accuracy=0.828125\u001b[0m\n",
      "\u001b[34m[10/27/2023 09:43:13 INFO 139624957740864] Storing the best model with validation accuracy: 0.828125\u001b[0m\n",
      "\u001b[34m[10/27/2023 09:43:14 INFO 139624957740864] Saved checkpoint to \"/opt/ml/model/image-classification-0011.params\"\u001b[0m\n",
      "\u001b[34m[10/27/2023 09:43:20 INFO 139624957740864] Epoch[11] Batch [20]#011Speed: 101.204 samples/sec#011accuracy=0.855655\u001b[0m\n",
      "\u001b[34m[10/27/2023 09:43:23 INFO 139624957740864] Epoch[11] Train-accuracy=0.855847\u001b[0m\n",
      "\u001b[34m[10/27/2023 09:43:23 INFO 139624957740864] Epoch[11] Time cost=9.403\u001b[0m\n",
      "\u001b[34m[10/27/2023 09:43:24 INFO 139624957740864] Epoch[11] Validation-accuracy=0.750000\u001b[0m\n",
      "\u001b[34m[10/27/2023 09:43:31 INFO 139624957740864] Epoch[12] Batch [20]#011Speed: 99.853 samples/sec#011accuracy=0.879464\u001b[0m\n",
      "\u001b[34m[10/27/2023 09:43:34 INFO 139624957740864] Epoch[12] Train-accuracy=0.876008\u001b[0m\n",
      "\u001b[34m[10/27/2023 09:43:34 INFO 139624957740864] Epoch[12] Time cost=9.499\u001b[0m\n",
      "\u001b[34m[10/27/2023 09:43:35 INFO 139624957740864] Epoch[12] Validation-accuracy=0.812500\u001b[0m\n",
      "\u001b[34m[10/27/2023 09:43:42 INFO 139624957740864] Epoch[13] Batch [20]#011Speed: 99.712 samples/sec#011accuracy=0.875000\u001b[0m\n",
      "\u001b[34m[10/27/2023 09:43:45 INFO 139624957740864] Epoch[13] Train-accuracy=0.884073\u001b[0m\n",
      "\u001b[34m[10/27/2023 09:43:45 INFO 139624957740864] Epoch[13] Time cost=9.492\u001b[0m\n",
      "\u001b[34m[10/27/2023 09:43:46 INFO 139624957740864] Epoch[13] Validation-accuracy=0.812500\u001b[0m\n",
      "\u001b[34m[10/27/2023 09:43:52 INFO 139624957740864] Epoch[14] Batch [20]#011Speed: 99.130 samples/sec#011accuracy=0.906250\u001b[0m\n",
      "\u001b[34m[10/27/2023 09:43:56 INFO 139624957740864] Epoch[14] Train-accuracy=0.899194\u001b[0m\n",
      "\u001b[34m[10/27/2023 09:43:56 INFO 139624957740864] Epoch[14] Time cost=9.556\u001b[0m\n",
      "\u001b[34m[10/27/2023 09:43:56 INFO 139624957740864] Epoch[14] Validation-accuracy=0.817708\u001b[0m\n",
      "\u001b[34m[10/27/2023 09:44:03 INFO 139624957740864] Epoch[15] Batch [20]#011Speed: 98.372 samples/sec#011accuracy=0.904762\u001b[0m\n",
      "\u001b[34m[10/27/2023 09:44:06 INFO 139624957740864] Epoch[15] Train-accuracy=0.889113\u001b[0m\n",
      "\u001b[34m[10/27/2023 09:44:06 INFO 139624957740864] Epoch[15] Time cost=9.606\u001b[0m\n",
      "\u001b[34m[10/27/2023 09:44:07 INFO 139624957740864] Epoch[15] Validation-accuracy=0.816964\u001b[0m\n",
      "\u001b[34m[10/27/2023 09:44:14 INFO 139624957740864] Epoch[16] Batch [20]#011Speed: 99.849 samples/sec#011accuracy=0.946429\u001b[0m\n",
      "\u001b[34m[10/27/2023 09:44:17 INFO 139624957740864] Epoch[16] Train-accuracy=0.922379\u001b[0m\n",
      "\u001b[34m[10/27/2023 09:44:17 INFO 139624957740864] Epoch[16] Time cost=9.482\u001b[0m\n",
      "\u001b[34m[10/27/2023 09:44:18 INFO 139624957740864] Epoch[16] Validation-accuracy=0.822917\u001b[0m\n",
      "\u001b[34m[10/27/2023 09:44:25 INFO 139624957740864] Epoch[17] Batch [20]#011Speed: 99.320 samples/sec#011accuracy=0.938988\u001b[0m\n",
      "\u001b[34m[10/27/2023 09:44:28 INFO 139624957740864] Epoch[17] Train-accuracy=0.930444\u001b[0m\n",
      "\u001b[34m[10/27/2023 09:44:28 INFO 139624957740864] Epoch[17] Time cost=9.530\u001b[0m\n",
      "\u001b[34m[10/27/2023 09:44:29 INFO 139624957740864] Epoch[17] Validation-accuracy=0.822917\u001b[0m\n",
      "\u001b[34m[10/27/2023 09:44:35 INFO 139624957740864] Epoch[18] Batch [20]#011Speed: 100.084 samples/sec#011accuracy=0.876488\u001b[0m\n",
      "\u001b[34m[10/27/2023 09:44:39 INFO 139624957740864] Epoch[18] Train-accuracy=0.878024\u001b[0m\n",
      "\u001b[34m[10/27/2023 09:44:39 INFO 139624957740864] Epoch[18] Time cost=9.498\u001b[0m\n",
      "\u001b[34m[10/27/2023 09:44:39 INFO 139624957740864] Epoch[18] Validation-accuracy=0.838542\u001b[0m\n",
      "\u001b[34m[10/27/2023 09:44:40 INFO 139624957740864] Storing the best model with validation accuracy: 0.838542\u001b[0m\n",
      "\u001b[34m[10/27/2023 09:44:40 INFO 139624957740864] Saved checkpoint to \"/opt/ml/model/image-classification-0019.params\"\u001b[0m\n",
      "\u001b[34m[10/27/2023 09:44:46 INFO 139624957740864] Epoch[19] Batch [20]#011Speed: 101.737 samples/sec#011accuracy=0.941964\u001b[0m\n",
      "\u001b[34m[10/27/2023 09:44:49 INFO 139624957740864] Epoch[19] Train-accuracy=0.944556\u001b[0m\n",
      "\u001b[34m[10/27/2023 09:44:49 INFO 139624957740864] Epoch[19] Time cost=9.382\u001b[0m\n",
      "\u001b[34m[10/27/2023 09:44:50 INFO 139624957740864] Epoch[19] Validation-accuracy=0.852679\u001b[0m\n",
      "\u001b[34m[10/27/2023 09:44:50 INFO 139624957740864] Storing the best model with validation accuracy: 0.852679\u001b[0m\n",
      "\u001b[34m[10/27/2023 09:44:51 INFO 139624957740864] Saved checkpoint to \"/opt/ml/model/image-classification-0020.params\"\u001b[0m\n",
      "\u001b[34m[10/27/2023 09:44:57 INFO 139624957740864] Epoch[20] Batch [20]#011Speed: 100.950 samples/sec#011accuracy=0.953869\u001b[0m\n",
      "\u001b[34m[10/27/2023 09:45:00 INFO 139624957740864] Epoch[20] Train-accuracy=0.949597\u001b[0m\n",
      "\u001b[34m[10/27/2023 09:45:00 INFO 139624957740864] Epoch[20] Time cost=9.440\u001b[0m\n",
      "\u001b[34m[10/27/2023 09:45:01 INFO 139624957740864] Epoch[20] Validation-accuracy=0.828125\u001b[0m\n",
      "\u001b[34m[10/27/2023 09:45:08 INFO 139624957740864] Epoch[21] Batch [20]#011Speed: 99.068 samples/sec#011accuracy=0.961310\u001b[0m\n",
      "\u001b[34m[10/27/2023 09:45:11 INFO 139624957740864] Epoch[21] Train-accuracy=0.961694\u001b[0m\n",
      "\u001b[34m[10/27/2023 09:45:11 INFO 139624957740864] Epoch[21] Time cost=9.599\u001b[0m\n",
      "\u001b[34m[10/27/2023 09:45:12 INFO 139624957740864] Epoch[21] Validation-accuracy=0.796875\u001b[0m\n",
      "\u001b[34m[10/27/2023 09:45:19 INFO 139624957740864] Epoch[22] Batch [20]#011Speed: 99.258 samples/sec#011accuracy=0.941964\u001b[0m\n",
      "\u001b[34m[10/27/2023 09:45:22 INFO 139624957740864] Epoch[22] Train-accuracy=0.929435\u001b[0m\n",
      "\u001b[34m[10/27/2023 09:45:22 INFO 139624957740864] Epoch[22] Time cost=9.558\u001b[0m\n",
      "\u001b[34m[10/27/2023 09:45:23 INFO 139624957740864] Epoch[22] Validation-accuracy=0.869792\u001b[0m\n",
      "\u001b[34m[10/27/2023 09:45:23 INFO 139624957740864] Storing the best model with validation accuracy: 0.869792\u001b[0m\n",
      "\u001b[34m[10/27/2023 09:45:23 INFO 139624957740864] Saved checkpoint to \"/opt/ml/model/image-classification-0023.params\"\u001b[0m\n",
      "\u001b[34m[10/27/2023 09:45:30 INFO 139624957740864] Epoch[23] Batch [20]#011Speed: 101.866 samples/sec#011accuracy=0.965774\u001b[0m\n",
      "\u001b[34m[10/27/2023 09:45:33 INFO 139624957740864] Epoch[23] Train-accuracy=0.963710\u001b[0m\n",
      "\u001b[34m[10/27/2023 09:45:33 INFO 139624957740864] Epoch[23] Time cost=9.371\u001b[0m\n",
      "\u001b[34m[10/27/2023 09:45:34 INFO 139624957740864] Epoch[23] Validation-accuracy=0.843750\u001b[0m\n",
      "\u001b[34m[10/27/2023 09:45:41 INFO 139624957740864] Epoch[24] Batch [20]#011Speed: 99.814 samples/sec#011accuracy=0.959821\u001b[0m\n",
      "\u001b[34m[10/27/2023 09:45:44 INFO 139624957740864] Epoch[24] Train-accuracy=0.959677\u001b[0m\n",
      "\u001b[34m[10/27/2023 09:45:44 INFO 139624957740864] Epoch[24] Time cost=9.523\u001b[0m\n",
      "\u001b[34m[10/27/2023 09:45:45 INFO 139624957740864] Epoch[24] Validation-accuracy=0.848958\u001b[0m\n",
      "\u001b[34m[10/27/2023 09:45:51 INFO 139624957740864] Epoch[25] Batch [20]#011Speed: 100.000 samples/sec#011accuracy=0.965774\u001b[0m\n",
      "\u001b[34m[10/27/2023 09:45:54 INFO 139624957740864] Epoch[25] Train-accuracy=0.963710\u001b[0m\n",
      "\u001b[34m[10/27/2023 09:45:54 INFO 139624957740864] Epoch[25] Time cost=9.494\u001b[0m\n",
      "\u001b[34m[10/27/2023 09:45:55 INFO 139624957740864] Epoch[25] Validation-accuracy=0.822917\u001b[0m\n",
      "\u001b[34m[10/27/2023 09:46:02 INFO 139624957740864] Epoch[26] Batch [20]#011Speed: 97.965 samples/sec#011accuracy=0.959821\u001b[0m\n",
      "\u001b[34m[10/27/2023 09:46:05 INFO 139624957740864] Epoch[26] Train-accuracy=0.965726\u001b[0m\n",
      "\u001b[34m[10/27/2023 09:46:05 INFO 139624957740864] Epoch[26] Time cost=9.659\u001b[0m\n",
      "\u001b[34m[10/27/2023 09:46:06 INFO 139624957740864] Epoch[26] Validation-accuracy=0.812500\u001b[0m\n",
      "\u001b[34m[10/27/2023 09:46:13 INFO 139624957740864] Epoch[27] Batch [20]#011Speed: 100.766 samples/sec#011accuracy=0.988095\u001b[0m\n",
      "\u001b[34m[10/27/2023 09:46:16 INFO 139624957740864] Epoch[27] Train-accuracy=0.980847\u001b[0m\n",
      "\u001b[34m[10/27/2023 09:46:16 INFO 139624957740864] Epoch[27] Time cost=9.426\u001b[0m\n",
      "\u001b[34m[10/27/2023 09:46:17 INFO 139624957740864] Epoch[27] Validation-accuracy=0.808036\u001b[0m\n",
      "\n",
      "2023-10-27 09:47:03 Uploading - Uploading generated training model\n",
      "2023-10-27 09:47:03 Completed - Training job completed\n",
      "Training seconds: 760\n",
      "Billable seconds: 760\n"
     ]
    }
   ],
   "source": [
    "## TODO: train your model\n",
    "img_classifier_model.fit(inputs=model_inputs)"
   ]
  },
  {
   "cell_type": "markdown",
   "metadata": {},
   "source": [
    "If all goes well, you'll end up with a model topping out above `.8` validation accuracy. With only 1000 training samples in the CIFAR dataset, that's pretty good. We could definitely pursue data augmentation & gathering more samples to help us improve further, but for now let's proceed to deploy our model.\n",
    "\n",
    "### Getting ready to deploy\n",
    "\n",
    "To begin with, let's configure Model Monitor to track our deployment. We'll define a `DataCaptureConfig` below:"
   ]
  },
  {
   "cell_type": "code",
   "execution_count": 29,
   "metadata": {},
   "outputs": [
    {
     "name": "stdout",
     "output_type": "stream",
     "text": [
      "sagemaker.config INFO - Not applying SDK defaults from location: /etc/xdg/sagemaker/config.yaml\n",
      "sagemaker.config INFO - Not applying SDK defaults from location: /root/.config/sagemaker/config.yaml\n"
     ]
    }
   ],
   "source": [
    "from sagemaker.model_monitor import DataCaptureConfig\n",
    "\n",
    "data_capture_config = DataCaptureConfig(\n",
    "    ## TODO: Set config options\n",
    "    destination_s3_uri = f\"s3://{bucket}/data_capture\",\n",
    "    enable_capture = True, \n",
    "    sampling_percentage = 100\n",
    ")"
   ]
  },
  {
   "cell_type": "markdown",
   "metadata": {},
   "source": [
    "Note the `destination_s3_uri` parameter: At the end of the project, we can explore the `data_capture` directory in S3 to find crucial data about the inputs and outputs Model Monitor has observed on our model endpoint over time.\n",
    "\n",
    "With that done, deploy your model on a single `ml.m5.xlarge` instance with the data capture config attached:"
   ]
  },
  {
   "cell_type": "code",
   "execution_count": 30,
   "metadata": {},
   "outputs": [
    {
     "name": "stderr",
     "output_type": "stream",
     "text": [
      "INFO:sagemaker:Creating model with name: image-classification-2023-10-27-09-47-27-575\n",
      "INFO:sagemaker:Creating endpoint-config with name image-classification-2023-10-27-09-47-27-575\n",
      "INFO:sagemaker:Creating endpoint with name image-classification-2023-10-27-09-47-27-575\n"
     ]
    },
    {
     "name": "stdout",
     "output_type": "stream",
     "text": [
      "------!image-classification-2023-10-27-09-47-27-575\n"
     ]
    }
   ],
   "source": [
    "deployment = img_classifier_model.deploy(\n",
    "    ## TODO: fill in deployment options\n",
    "    data_capture_config= data_capture_config,\n",
    "    initial_instance_count = 1, \n",
    "    instance_type = 'ml.m5.xlarge'\n",
    "    )\n",
    "\n",
    "endpoint = deployment.endpoint_name\n",
    "print(endpoint)"
   ]
  },
  {
   "cell_type": "markdown",
   "metadata": {},
   "source": [
    "Note the endpoint name for later as well.\n",
    "\n",
    "Next, instantiate a Predictor:"
   ]
  },
  {
   "cell_type": "code",
   "execution_count": 31,
   "metadata": {},
   "outputs": [
    {
     "name": "stdout",
     "output_type": "stream",
     "text": [
      "sagemaker.config INFO - Not applying SDK defaults from location: /etc/xdg/sagemaker/config.yaml\n",
      "sagemaker.config INFO - Not applying SDK defaults from location: /root/.config/sagemaker/config.yaml\n"
     ]
    }
   ],
   "source": [
    "predictor = sagemaker.predictor.Predictor(endpoint)## TODO: fill in"
   ]
  },
  {
   "cell_type": "markdown",
   "metadata": {},
   "source": [
    "In the code snippet below we are going to prepare one of your saved images for prediction. Use the predictor to process the `payload`."
   ]
  },
  {
   "cell_type": "code",
   "execution_count": 32,
   "metadata": {},
   "outputs": [],
   "source": [
    "from sagemaker.serializers import IdentitySerializer\n",
    "import base64\n",
    "\n",
    "predictor.serializer = IdentitySerializer(\"image/png\")\n",
    "with open(\"./test/bicycle_s_001789.png\", \"rb\") as f:\n",
    "    payload = f.read()\n",
    "\n",
    "    \n",
    "inference = predictor.predict(payload)## TODO: Process the payload with your predictor"
   ]
  },
  {
   "cell_type": "markdown",
   "metadata": {},
   "source": [
    "Your `inference` object is an array of two values, the predicted probability value for each of your classes (bicycle and motorcycle respectively.) So, for example, a value of `b'[0.91, 0.09]'` indicates the probability of being a bike is 91% and being a motorcycle is 9%."
   ]
  },
  {
   "cell_type": "code",
   "execution_count": 33,
   "metadata": {},
   "outputs": [
    {
     "name": "stdout",
     "output_type": "stream",
     "text": [
      "b'[0.9916382431983948, 0.008361758664250374]'\n"
     ]
    }
   ],
   "source": [
    "print(inference)"
   ]
  },
  {
   "cell_type": "markdown",
   "metadata": {},
   "source": [
    "### Draft Lambdas and Step Function Workflow\n",
    "\n",
    "Your operations team uses Step Functions to orchestrate serverless workflows. One of the nice things about Step Functions is that [workflows can call other workflows](https://docs.aws.amazon.com/step-functions/latest/dg/connect-stepfunctions.html), so the team can easily plug your workflow into the broader production architecture for Scones Unlimited.\n",
    "\n",
    "In this next stage you're going to write and deploy three Lambda functions, and then use the Step Functions visual editor to chain them together! Our functions are going to work with a simple data object:\n",
    "\n",
    "```python\n",
    "{\n",
    "    \"s3_bucket\": \"\", # Source data S3 bucket\n",
    "    \"s3_key\": \"\", # Source data S3 key\n",
    "    \"image_data\": \"\",  # base64 encoded string containing the image data\n",
    "    \"inferences\": [] # Output of predictor.predict\n",
    "}\n",
    "```\n",
    "\n",
    "A good test object that you can use for Lambda tests and Step Function executions, throughout the next section, might look like this:\n",
    "\n",
    "```python\n",
    "{\n",
    "  \"s3_bucket\": MY_BUCKET_NAME, # Fill in with your bucket\n",
    "  \"s3_key\": \"test/bicycle_s_000513.png\",\n",
    "  \"image_data\": \"\"\n",
    "}\n",
    "```\n",
    "\n",
    "Using these fields, your functions can read and write the necessary data to execute your workflow. Let's start with the first function. Your first Lambda function will copy an object from S3, base64 encode it, and then return it to the step function as `image_data` in an event.\n",
    "\n",
    "Go to the Lambda dashboard and create a new Lambda function with a descriptive name like \"serializeImageData\" and select thr 'Python 3.9' runtime. Add the same permissions as the SageMaker role you created earlier. (Reminder: you do this in the Configuration tab under \"Permissions\"). Once you're ready, use the starter code below to craft your Lambda handler:\n",
    "\n",
    "```python\n",
    "import json\n",
    "import boto3\n",
    "import base64\n",
    "\n",
    "s3 = boto3.client('s3')\n",
    "\n",
    "def lambda_handler(event, context):\n",
    "    \"\"\"A function to serialize target data from S3\"\"\"\n",
    "    \n",
    "    # Get the s3 address from the Step Function event input\n",
    "    key = event['s3_key']## TODO: fill in\n",
    "    bucket = event['s3_bucket']## TODO: fill in\n",
    "    \n",
    "    # Download the data from s3 to /tmp/image.png\n",
    "    ## TODO: fill in\n",
    "    \n",
    "    s3.download_file(bucket, key, '/tmp/image.png')\n",
    "    # We read the data from a file\n",
    "    with open(\"/tmp/image.png\", \"rb\") as f:\n",
    "        image_data = base64.b64encode(f.read())\n",
    "\n",
    "    # Pass the data back to the Step Function\n",
    "    print(\"Event:\", event.keys())\n",
    "    return {\n",
    "        'statusCode': 200,\n",
    "        'body': {\n",
    "            \"s3_bucket\": bucket,\n",
    "            \"s3_key\": key,\n",
    "            \"image_data\": image_data,\n",
    "            \"inferences\": []\n",
    "        }\n",
    "    }\n",
    "```\n",
    "\n",
    "The next function is responsible for the classification part - we're going to take the image output from the previous function, decode it, and then pass inferences back to the the Step Function.\n",
    "\n",
    "Because this Lambda will have runtime dependencies (i.e. the SageMaker SDK) you'll need to package them in your function. *Key reading:* https://docs.aws.amazon.com/lambda/latest/dg/python-package-create.html#python-package-create-with-dependency  \n",
    "\n",
    "Alternatively, you can package your dependencies in a [lambda layer](https://docs.aws.amazon.com/lambda/latest/dg/packaging-layers.html).\n",
    "\n",
    "Create a new Lambda function with the same permissions and a descriptive name, then fill in the starter code below for your classifier Lambda.\n",
    "\n",
    "```python\n",
    "import json\n",
    "import sagemaker\n",
    "import base64\n",
    "from sagemaker.serializers import IdentitySerializer\n",
    "\n",
    "# Fill this in with the name of your deployed model\n",
    "ENDPOINT = \"image-classification-2023-10-27-09-47-27-575\" ## TODO: fill in\n",
    "\n",
    "def lambda_handler(event, context):\n",
    "\n",
    "    # Decode the image data\n",
    "    image = base64.b64decode(event['body']['image_data'])## TODO: fill in)\n",
    "\n",
    "    # Instantiate a Predictor\n",
    "    predictor = sagemaker.predictor.Predictor(ENDPOINT)## TODO: fill in\n",
    "\n",
    "    # For this model the IdentitySerializer needs to be \"image/png\"\n",
    "    predictor.serializer = IdentitySerializer(\"image/png\")\n",
    "    \n",
    "    # Make a prediction:\n",
    "    inferences = predictor.predict(image) ## TODO: fill in\n",
    "    \n",
    "    # We return the data back to the Step Function    \n",
    "    event[\"body\"][\"inferences\"] = json.loads(inferences)\n",
    "    return {\n",
    "        'statusCode': 200,\n",
    "        'body': event[\"body\"]\n",
    "    }\n",
    "```\n",
    "\n",
    "Finally, we need to filter low-confidence inferences. Define a threshold between 1.00 and 0.000 for your model: what is reasonble for you? If the model predicts at `.70` for it's highest confidence label, do we want to pass that inference along to downstream systems? Make one last Lambda function and tee up the same permissions:\n",
    "\n",
    "```python\n",
    "import json\n",
    "\n",
    "\n",
    "THRESHOLD = .93\n",
    "\n",
    "\n",
    "def lambda_handler(event, context):\n",
    "    \n",
    "    # Grab the inferences from the event\n",
    "    inferences = event['body']['inferences']## TODO: fill in\n",
    "    \n",
    "    # Check if any values in our inferences are above THRESHOLD\n",
    "    meets_threshold = any([x > THRESHOLD for x in inferences])## TODO: fill in\n",
    "    \n",
    "    # If our threshold is met, pass our data back out of the\n",
    "    # Step Function, else, end the Step Function with an error\n",
    "    if meets_threshold:\n",
    "        pass\n",
    "    else:\n",
    "        raise(Exception(\"THRESHOLD_CONFIDENCE_NOT_MET\"))\n",
    "\n",
    "    return {\n",
    "        'statusCode': 200,\n",
    "        'body': event[\"body\"]\n",
    "    }\n",
    "```\n",
    "Once you have tested the lambda functions, save the code for each lambda function in a python script called 'lambda.py'.\n",
    "\n",
    "With your lambdas in place, you can use the Step Functions visual editor to construct a workflow that chains them together. In the Step Functions console you'll have the option to author a Standard step function *Visually*.\n",
    "\n",
    "When the visual editor opens, you'll have many options to add transitions in your workflow. We're going to keep it simple and have just one: to invoke Lambda functions. Add three of them chained together. For each one, you'll be able to select the Lambda functions you just created in the proper order, filter inputs and outputs, and give them descriptive names.\n",
    "\n",
    "Make sure that you:\n",
    "\n",
    "1. Are properly filtering the inputs and outputs of your invokations (e.g. `$.body`)\n",
    "2. Take care to remove the error handling from the last function - it's supposed to \"fail loudly\" for your operations colleagues!\n",
    "\n",
    "Take a screenshot of your working step function in action and export the step function as JSON for your submission package."
   ]
  },
  {
   "cell_type": "markdown",
   "metadata": {},
   "source": [
    "\n",
    "Great! Now you can use the files in `./test` as test files for our workflow. Depending on our threshold, our workflow should reliably pass predictions about images from `./test` on to downstream systems, while erroring out for inferences below our confidence threshold!\n",
    "\n",
    "### Testing and Evaluation\n",
    "\n",
    "Do several step function invokations using data from the `./test` folder. This process should give you confidence that the workflow both *succeeds* AND *fails* as expected. In addition, SageMaker Model Monitor will generate recordings of your data and inferences which we can visualize.\n",
    "\n",
    "Here's a function that can help you generate test inputs for your invokations:"
   ]
  },
  {
   "cell_type": "code",
   "execution_count": 62,
   "metadata": {},
   "outputs": [
    {
     "data": {
      "text/plain": [
       "'{\"image_data\": \"\", \"s3_bucket\": \"sagemaker-us-east-1-114161389887\", \"s3_key\": \"test/bicycle_s_002458.png\"}'"
      ]
     },
     "execution_count": 62,
     "metadata": {},
     "output_type": "execute_result"
    }
   ],
   "source": [
    "import random\n",
    "import boto3\n",
    "import json\n",
    "\n",
    "\n",
    "def generate_test_case():\n",
    "    # Setup s3 in boto3\n",
    "    s3 = boto3.resource('s3')\n",
    "    \n",
    "    # Randomly pick from sfn or test folders in our bucket\n",
    "    objects = s3.Bucket(bucket).objects.filter(Prefix=\"test\")\n",
    "    \n",
    "    # Grab any random object key from that folder!\n",
    "    obj = random.choice([x.key for x in objects])\n",
    "    \n",
    "    return json.dumps({\n",
    "        \"image_data\": \"\",\n",
    "        \"s3_bucket\": bucket,\n",
    "        \"s3_key\": obj\n",
    "    })\n",
    "generate_test_case()"
   ]
  },
  {
   "cell_type": "markdown",
   "metadata": {},
   "source": [
    "In the Step Function dashboard for your new function, you can create new executions and copy in the generated test cases. Do several executions so that you can generate data you can evaluate and visualize.\n",
    "\n",
    "Once you've done several executions, let's visualize the record of our inferences. Pull in the JSONLines data from your inferences like so:"
   ]
  },
  {
   "cell_type": "code",
   "execution_count": 4,
   "metadata": {},
   "outputs": [
    {
     "name": "stdout",
     "output_type": "stream",
     "text": [
      "sagemaker.config INFO - Not applying SDK defaults from location: /etc/xdg/sagemaker/config.yaml\n",
      "sagemaker.config INFO - Not applying SDK defaults from location: /root/.config/sagemaker/config.yaml\n"
     ]
    },
    {
     "data": {
      "text/plain": [
       "['captured_data/image-classification-2023-10-26-16-33-01-768/AllTraffic/2023/10/26/16/37-04-176-d192c68c-0578-4b98-8410-06bd240050db.jsonl',\n",
       " 'captured_data/image-classification-2023-10-27-09-47-27-575/AllTraffic/2023/10/27/09/51-00-052-a14972ac-4963-4e1c-b73e-9c3d77cee9f3.jsonl',\n",
       " 'captured_data/image-classification-2023-10-27-09-47-27-575/AllTraffic/2023/10/27/11/16-10-855-18e52be2-b4e4-4834-adb9-7b3a430e2943.jsonl',\n",
       " 'captured_data/image-classification-2023-10-27-09-47-27-575/AllTraffic/2023/10/27/11/38-55-208-6c5501dd-a9f6-4e62-81d0-23e54cb238cc.jsonl',\n",
       " 'captured_data/image-classification-2023-10-27-09-47-27-575/AllTraffic/2023/10/27/11/57-11-051-e210ace4-ccef-4aa2-a671-f48332886990.jsonl',\n",
       " 'captured_data/image-classification-2023-10-27-09-47-27-575/AllTraffic/2023/10/27/12/01-45-028-2c095f19-9154-4f05-9d33-e33b957a9db5.jsonl',\n",
       " 'captured_data/image-classification-2023-10-27-09-47-27-575/AllTraffic/2023/10/27/12/04-07-714-0e20268e-c94d-42cd-91c8-77fb7024b98b.jsonl',\n",
       " 'captured_data/image-classification-2023-10-27-09-47-27-575/AllTraffic/2023/10/27/12/05-40-009-4d376037-bb83-4082-9c12-14aad0a879a8.jsonl',\n",
       " 'captured_data/image-classification-2023-10-27-09-47-27-575/AllTraffic/2023/10/27/12/08-44-439-70f3a262-2acf-4049-9242-ca00cb3a9d48.jsonl',\n",
       " 'captured_data/image-classification-2023-10-27-09-47-27-575/AllTraffic/2023/10/27/12/14-52-007-40eede98-7b40-421e-b7a0-ece1aceefdac.jsonl',\n",
       " 'captured_data/image-classification-2023-10-27-09-47-27-575/AllTraffic/2023/10/27/12/16-23-624-83451b08-f055-4636-bae3-6b2696e81821.jsonl',\n",
       " 'captured_data/image-classification-2023-10-27-09-47-27-575/AllTraffic/2023/10/27/12/17-44-373-35931581-51b6-4fea-a812-c144e24bea85.jsonl',\n",
       " 'captured_data/image-classification-2023-10-27-09-47-27-575/AllTraffic/2023/10/27/12/18-50-830-0c8a4a33-61a1-4aca-b627-8d78e7d78614.jsonl',\n",
       " 'captured_data/image-classification-2023-10-27-09-47-27-575/AllTraffic/2023/10/27/12/21-43-900-c360188f-b0a2-4a83-9565-9a46d9a2bb60.jsonl',\n",
       " 'captured_data/image-classification-2023-10-27-09-47-27-575/AllTraffic/2023/10/27/12/22-59-355-62e1399d-be81-474e-9b4e-2cb7f1d1fe96.jsonl',\n",
       " 'captured_data/image-classification-2023-10-27-09-47-27-575/AllTraffic/2023/10/27/12/24-44-353-b9e68937-c122-41f3-9518-299c388c885c.jsonl',\n",
       " 'captured_data/image-classification-2023-10-27-09-47-27-575/AllTraffic/2023/10/27/12/25-59-959-803d85d8-f818-49bd-b1dd-e2a3ed7a8e49.jsonl',\n",
       " 'captured_data/image-classification-2023-10-27-09-47-27-575/AllTraffic/2023/10/27/12/28-07-078-80223223-3fac-4ac4-8d03-d78654428750.jsonl',\n",
       " 'captured_data/image-classification-2023-10-27-09-47-27-575/AllTraffic/2023/10/27/12/32-11-996-6936bb44-2705-4ac6-8be8-30cb8485c007.jsonl']"
      ]
     },
     "execution_count": 4,
     "metadata": {},
     "output_type": "execute_result"
    }
   ],
   "source": [
    "from sagemaker.s3 import S3Downloader\n",
    "\n",
    "# In S3 your data will be saved to a datetime-aware path\n",
    "# Find a path related to a datetime you're interested in\n",
    "data_path = f's3://{bucket}/data_capture/' ## TODO: fill in the path to your captured data\n",
    "\n",
    "S3Downloader.download(data_path, \"captured_data\")\n",
    "\n",
    "# Feel free to repeat this multiple times and pull in more data"
   ]
  },
  {
   "cell_type": "markdown",
   "metadata": {},
   "source": [
    "The data are in JSONLines format, where multiple valid JSON objects are stacked on top of eachother in a single `jsonl` file. We'll import an open-source library, `jsonlines` that was purpose built for parsing this format."
   ]
  },
  {
   "cell_type": "code",
   "execution_count": 5,
   "metadata": {},
   "outputs": [
    {
     "name": "stdout",
     "output_type": "stream",
     "text": [
      "Requirement already satisfied: jsonlines in /opt/conda/lib/python3.10/site-packages (4.0.0)\n",
      "Requirement already satisfied: attrs>=19.2.0 in /opt/conda/lib/python3.10/site-packages (from jsonlines) (23.1.0)\n",
      "\u001b[33mWARNING: Running pip as the 'root' user can result in broken permissions and conflicting behaviour with the system package manager. It is recommended to use a virtual environment instead: https://pip.pypa.io/warnings/venv\u001b[0m\u001b[33m\n",
      "\u001b[0m\n",
      "\u001b[1m[\u001b[0m\u001b[34;49mnotice\u001b[0m\u001b[1;39;49m]\u001b[0m\u001b[39;49m A new release of pip is available: \u001b[0m\u001b[31;49m23.2.1\u001b[0m\u001b[39;49m -> \u001b[0m\u001b[32;49m23.3.1\u001b[0m\n",
      "\u001b[1m[\u001b[0m\u001b[34;49mnotice\u001b[0m\u001b[1;39;49m]\u001b[0m\u001b[39;49m To update, run: \u001b[0m\u001b[32;49mpip install --upgrade pip\u001b[0m\n"
     ]
    }
   ],
   "source": [
    "!pip install jsonlines\n",
    "import jsonlines"
   ]
  },
  {
   "cell_type": "markdown",
   "metadata": {},
   "source": [
    "Now we can extract the data from each of the source files:"
   ]
  },
  {
   "cell_type": "code",
   "execution_count": 6,
   "metadata": {},
   "outputs": [],
   "source": [
    "import os\n",
    "\n",
    "# List the file names we downloaded\n",
    "file_handles = []\n",
    "for root, subFolders, files in os.walk(\"./captured_data\"):\n",
    "    if files:\n",
    "        file_handles += [root + '/' + file for file in files]\n",
    "\n",
    "# Dump all the data into an array\n",
    "json_data = []\n",
    "for jsonl in file_handles:\n",
    "    with jsonlines.open(jsonl) as f:\n",
    "        for dict_line in f.iter():\n",
    "            json_data.append(dict_line)"
   ]
  },
  {
   "cell_type": "markdown",
   "metadata": {},
   "source": [
    "The data should now be a list of dictionaries, with significant nesting. We'll give you an example of some code that grabs data out of the objects and visualizes it:"
   ]
  },
  {
   "cell_type": "code",
   "execution_count": 8,
   "metadata": {},
   "outputs": [
    {
     "data": {
      "text/plain": [
       "([0.9882690906524658, 0.011730887927114964], '2023-10-26T16:37:04Z')"
      ]
     },
     "execution_count": 8,
     "metadata": {},
     "output_type": "execute_result"
    }
   ],
   "source": [
    "# Define how we'll get our data\n",
    "import json\n",
    "\n",
    "def simple_getter(obj):\n",
    "    inferences = obj[\"captureData\"][\"endpointOutput\"][\"data\"]\n",
    "    timestamp = obj[\"eventMetadata\"][\"inferenceTime\"]\n",
    "    return json.loads(inferences), timestamp\n",
    "\n",
    "simple_getter(json_data[0])"
   ]
  },
  {
   "cell_type": "markdown",
   "metadata": {},
   "source": [
    "Finally, here's an example of a visualization you can build with this data. In this last part, you will take some time and build your own - the captured data has the input images, the resulting inferences, and the timestamps."
   ]
  },
  {
   "cell_type": "code",
   "execution_count": 10,
   "metadata": {},
   "outputs": [
    {
     "data": {
      "image/png": "[encoded data removed]",
      "text/plain": [
       "<Figure size 640x480 with 1 Axes>"
      ]
     },
     "metadata": {},
     "output_type": "display_data"
    }
   ],
   "source": [
    "import matplotlib.pyplot as plt\n",
    "\n",
    "# Change the threshold value to the same value you used before.\n",
    "THRESHOLD = .93\n",
    "\n",
    "data_points = []\n",
    "for obj in json_data:\n",
    "    inference, timestamp = simple_getter(obj)\n",
    "    \n",
    "    data_points.append((timestamp, max(inference)))\n",
    "\n",
    "# Sort data by timestamp.\n",
    "data_points.sort()\n",
    "\n",
    "# Populate the data for the x and y axis\n",
    "x = [p[0] for p in data_points]\n",
    "y = [p[1] for p in data_points]\n",
    "\n",
    "# Todo: here is an visualization example, take some time to build another visual that helps monitor the result\n",
    "# Plot the data\n",
    "plt.scatter(x, y, c=['r' if k < THRESHOLD else 'b' for k in y ])\n",
    "plt.axhline(y=0.94, color='g', linestyle='--')\n",
    "plt.ylim(bottom=min(y) - 0.02) # New Fady\n",
    "\n",
    "# Add labels\n",
    "plt.ylabel(\"Confidence\")\n",
    "plt.suptitle(\"Observed Recent Inferences\", size=14)\n",
    "plt.title(\"Pictured with confidence threshold for production use\", size=10)\n",
    "\n",
    "# Give it some pizzaz!\n",
    "plt.style.use(\"Solarize_Light2\")\n",
    "plt.gcf().autofmt_xdate()"
   ]
  },
  {
   "cell_type": "markdown",
   "metadata": {},
   "source": [
    "### Todo: build your own visualization\n"
   ]
  },
  {
   "cell_type": "code",
   "execution_count": 30,
   "metadata": {
    "tags": []
   },
   "outputs": [
    {
     "data": {
      "text/plain": [
       "Text(0.5, 1.0, 'Percentage Pass or Fail for The Deployed Model')"
      ]
     },
     "execution_count": 30,
     "metadata": {},
     "output_type": "execute_result"
    },
    {
     "data": {
      "image/png": "[encoded data removed]",
      "text/plain": [
       "<Figure size 640x480 with 1 Axes>"
      ]
     },
     "metadata": {},
     "output_type": "display_data"
    }
   ],
   "source": [
    "#make a plot showing the percent pass and fail for the deployed model \n",
    "pass_threshold = 0.94\n",
    "\n",
    "total = len(y)\n",
    "\n",
    "passed = len([x for x in y if x>0.93])\n",
    "percent_passed = (passed/total)*100\n",
    "\n",
    "failed = len([x for x in y if x<0.93])\n",
    "percent_failed = (failed/total)*100\n",
    "\n",
    "ticks = ['passed','failed']\n",
    "values = [percent_passed, percent_failed]\n",
    "\n",
    "plt.bar(ticks, values)\n",
    "\n",
    "# Add labels\n",
    "plt.ylabel(\"Percentage Pass or Fail\")\n",
    "\n",
    "plt.title(\"Percentage Pass or Fail for The Deployed Model\", size=12)\n"
   ]
  },
  {
   "cell_type": "markdown",
   "metadata": {},
   "source": [
    "### Congratulations!\n",
    "\n",
    "You've reached the end of the project. In this project you created an event-drivent ML workflow that can be incorporated into the Scones Unlimited production architecture. You used the SageMaker Estimator API to deploy your SageMaker Model and Endpoint, and you used AWS Lambda and Step Functions to orchestrate your ML workflow. Using SageMaker Model Monitor, you instrumented and observed your Endpoint, and at the end of the project you built a visualization to help stakeholders understand the performance of the Endpoint over time. If you're up for it, you can even go further with these stretch goals:\n",
    "\n",
    "* Extend your workflow to incorporate more classes: the CIFAR dataset includes other vehicles that Scones Unlimited can identify with this model.\n",
    "* Modify your event driven workflow: can you rewrite your Lambda functions so that the workflow can process multiple image inputs in parallel? Can the Step Function \"fan out\" to accomodate this new workflow?\n",
    "* Consider the test data generator we provided for you. Can we use it to create a \"dummy data\" generator, to simulate a continuous stream of input data? Or a big paralell load of data?\n",
    "* What if we want to get notified every time our step function errors out? Can we use the Step Functions visual editor in conjunction with a service like SNS to accomplish this? Try it out!\n",
    "\n",
    "\n"
   ]
  }
 ],
 "metadata": {
  "availableInstances": [
   {
    "_defaultOrder": 0,
    "_isFastLaunch": true,
    "category": "General purpose",
    "gpuNum": 0,
    "hideHardwareSpecs": false,
    "memoryGiB": 4,
    "name": "ml.t3.medium",
    "vcpuNum": 2
   },
   {
    "_defaultOrder": 1,
    "_isFastLaunch": false,
    "category": "General purpose",
    "gpuNum": 0,
    "hideHardwareSpecs": false,
    "memoryGiB": 8,
    "name": "ml.t3.large",
    "vcpuNum": 2
   },
   {
    "_defaultOrder": 2,
    "_isFastLaunch": false,
    "category": "General purpose",
    "gpuNum": 0,
    "hideHardwareSpecs": false,
    "memoryGiB": 16,
    "name": "ml.t3.xlarge",
    "vcpuNum": 4
   },
   {
    "_defaultOrder": 3,
    "_isFastLaunch": false,
    "category": "General purpose",
    "gpuNum": 0,
    "hideHardwareSpecs": false,
    "memoryGiB": 32,
    "name": "ml.t3.2xlarge",
    "vcpuNum": 8
   },
   {
    "_defaultOrder": 4,
    "_isFastLaunch": true,
    "category": "General purpose",
    "gpuNum": 0,
    "hideHardwareSpecs": false,
    "memoryGiB": 8,
    "name": "ml.m5.large",
    "vcpuNum": 2
   },
   {
    "_defaultOrder": 5,
    "_isFastLaunch": false,
    "category": "General purpose",
    "gpuNum": 0,
    "hideHardwareSpecs": false,
    "memoryGiB": 16,
    "name": "ml.m5.xlarge",
    "vcpuNum": 4
   },
   {
    "_defaultOrder": 6,
    "_isFastLaunch": false,
    "category": "General purpose",
    "gpuNum": 0,
    "hideHardwareSpecs": false,
    "memoryGiB": 32,
    "name": "ml.m5.2xlarge",
    "vcpuNum": 8
   },
   {
    "_defaultOrder": 7,
    "_isFastLaunch": false,
    "category": "General purpose",
    "gpuNum": 0,
    "hideHardwareSpecs": false,
    "memoryGiB": 64,
    "name": "ml.m5.4xlarge",
    "vcpuNum": 16
   },
   {
    "_defaultOrder": 8,
    "_isFastLaunch": false,
    "category": "General purpose",
    "gpuNum": 0,
    "hideHardwareSpecs": false,
    "memoryGiB": 128,
    "name": "ml.m5.8xlarge",
    "vcpuNum": 32
   },
   {
    "_defaultOrder": 9,
    "_isFastLaunch": false,
    "category": "General purpose",
    "gpuNum": 0,
    "hideHardwareSpecs": false,
    "memoryGiB": 192,
    "name": "ml.m5.12xlarge",
    "vcpuNum": 48
   },
   {
    "_defaultOrder": 10,
    "_isFastLaunch": false,
    "category": "General purpose",
    "gpuNum": 0,
    "hideHardwareSpecs": false,
    "memoryGiB": 256,
    "name": "ml.m5.16xlarge",
    "vcpuNum": 64
   },
   {
    "_defaultOrder": 11,
    "_isFastLaunch": false,
    "category": "General purpose",
    "gpuNum": 0,
    "hideHardwareSpecs": false,
    "memoryGiB": 384,
    "name": "ml.m5.24xlarge",
    "vcpuNum": 96
   },
   {
    "_defaultOrder": 12,
    "_isFastLaunch": false,
    "category": "General purpose",
    "gpuNum": 0,
    "hideHardwareSpecs": false,
    "memoryGiB": 8,
    "name": "ml.m5d.large",
    "vcpuNum": 2
   },
   {
    "_defaultOrder": 13,
    "_isFastLaunch": false,
    "category": "General purpose",
    "gpuNum": 0,
    "hideHardwareSpecs": false,
    "memoryGiB": 16,
    "name": "ml.m5d.xlarge",
    "vcpuNum": 4
   },
   {
    "_defaultOrder": 14,
    "_isFastLaunch": false,
    "category": "General purpose",
    "gpuNum": 0,
    "hideHardwareSpecs": false,
    "memoryGiB": 32,
    "name": "ml.m5d.2xlarge",
    "vcpuNum": 8
   },
   {
    "_defaultOrder": 15,
    "_isFastLaunch": false,
    "category": "General purpose",
    "gpuNum": 0,
    "hideHardwareSpecs": false,
    "memoryGiB": 64,
    "name": "ml.m5d.4xlarge",
    "vcpuNum": 16
   },
   {
    "_defaultOrder": 16,
    "_isFastLaunch": false,
    "category": "General purpose",
    "gpuNum": 0,
    "hideHardwareSpecs": false,
    "memoryGiB": 128,
    "name": "ml.m5d.8xlarge",
    "vcpuNum": 32
   },
   {
    "_defaultOrder": 17,
    "_isFastLaunch": false,
    "category": "General purpose",
    "gpuNum": 0,
    "hideHardwareSpecs": false,
    "memoryGiB": 192,
    "name": "ml.m5d.12xlarge",
    "vcpuNum": 48
   },
   {
    "_defaultOrder": 18,
    "_isFastLaunch": false,
    "category": "General purpose",
    "gpuNum": 0,
    "hideHardwareSpecs": false,
    "memoryGiB": 256,
    "name": "ml.m5d.16xlarge",
    "vcpuNum": 64
   },
   {
    "_defaultOrder": 19,
    "_isFastLaunch": false,
    "category": "General purpose",
    "gpuNum": 0,
    "hideHardwareSpecs": false,
    "memoryGiB": 384,
    "name": "ml.m5d.24xlarge",
    "vcpuNum": 96
   },
   {
    "_defaultOrder": 20,
    "_isFastLaunch": false,
    "category": "General purpose",
    "gpuNum": 0,
    "hideHardwareSpecs": true,
    "memoryGiB": 0,
    "name": "ml.geospatial.interactive",
    "supportedImageNames": [
     "sagemaker-geospatial-v1-0"
    ],
    "vcpuNum": 0
   },
   {
    "_defaultOrder": 21,
    "_isFastLaunch": true,
    "category": "Compute optimized",
    "gpuNum": 0,
    "hideHardwareSpecs": false,
    "memoryGiB": 4,
    "name": "ml.c5.large",
    "vcpuNum": 2
   },
   {
    "_defaultOrder": 22,
    "_isFastLaunch": false,
    "category": "Compute optimized",
    "gpuNum": 0,
    "hideHardwareSpecs": false,
    "memoryGiB": 8,
    "name": "ml.c5.xlarge",
    "vcpuNum": 4
   },
   {
    "_defaultOrder": 23,
    "_isFastLaunch": false,
    "category": "Compute optimized",
    "gpuNum": 0,
    "hideHardwareSpecs": false,
    "memoryGiB": 16,
    "name": "ml.c5.2xlarge",
    "vcpuNum": 8
   },
   {
    "_defaultOrder": 24,
    "_isFastLaunch": false,
    "category": "Compute optimized",
    "gpuNum": 0,
    "hideHardwareSpecs": false,
    "memoryGiB": 32,
    "name": "ml.c5.4xlarge",
    "vcpuNum": 16
   },
   {
    "_defaultOrder": 25,
    "_isFastLaunch": false,
    "category": "Compute optimized",
    "gpuNum": 0,
    "hideHardwareSpecs": false,
    "memoryGiB": 72,
    "name": "ml.c5.9xlarge",
    "vcpuNum": 36
   },
   {
    "_defaultOrder": 26,
    "_isFastLaunch": false,
    "category": "Compute optimized",
    "gpuNum": 0,
    "hideHardwareSpecs": false,
    "memoryGiB": 96,
    "name": "ml.c5.12xlarge",
    "vcpuNum": 48
   },
   {
    "_defaultOrder": 27,
    "_isFastLaunch": false,
    "category": "Compute optimized",
    "gpuNum": 0,
    "hideHardwareSpecs": false,
    "memoryGiB": 144,
    "name": "ml.c5.18xlarge",
    "vcpuNum": 72
   },
   {
    "_defaultOrder": 28,
    "_isFastLaunch": false,
    "category": "Compute optimized",
    "gpuNum": 0,
    "hideHardwareSpecs": false,
    "memoryGiB": 192,
    "name": "ml.c5.24xlarge",
    "vcpuNum": 96
   },
   {
    "_defaultOrder": 29,
    "_isFastLaunch": true,
    "category": "Accelerated computing",
    "gpuNum": 1,
    "hideHardwareSpecs": false,
    "memoryGiB": 16,
    "name": "ml.g4dn.xlarge",
    "vcpuNum": 4
   },
   {
    "_defaultOrder": 30,
    "_isFastLaunch": false,
    "category": "Accelerated computing",
    "gpuNum": 1,
    "hideHardwareSpecs": false,
    "memoryGiB": 32,
    "name": "ml.g4dn.2xlarge",
    "vcpuNum": 8
   },
   {
    "_defaultOrder": 31,
    "_isFastLaunch": false,
    "category": "Accelerated computing",
    "gpuNum": 1,
    "hideHardwareSpecs": false,
    "memoryGiB": 64,
    "name": "ml.g4dn.4xlarge",
    "vcpuNum": 16
   },
   {
    "_defaultOrder": 32,
    "_isFastLaunch": false,
    "category": "Accelerated computing",
    "gpuNum": 1,
    "hideHardwareSpecs": false,
    "memoryGiB": 128,
    "name": "ml.g4dn.8xlarge",
    "vcpuNum": 32
   },
   {
    "_defaultOrder": 33,
    "_isFastLaunch": false,
    "category": "Accelerated computing",
    "gpuNum": 4,
    "hideHardwareSpecs": false,
    "memoryGiB": 192,
    "name": "ml.g4dn.12xlarge",
    "vcpuNum": 48
   },
   {
    "_defaultOrder": 34,
    "_isFastLaunch": false,
    "category": "Accelerated computing",
    "gpuNum": 1,
    "hideHardwareSpecs": false,
    "memoryGiB": 256,
    "name": "ml.g4dn.16xlarge",
    "vcpuNum": 64
   },
   {
    "_defaultOrder": 35,
    "_isFastLaunch": false,
    "category": "Accelerated computing",
    "gpuNum": 1,
    "hideHardwareSpecs": false,
    "memoryGiB": 61,
    "name": "ml.p3.2xlarge",
    "vcpuNum": 8
   },
   {
    "_defaultOrder": 36,
    "_isFastLaunch": false,
    "category": "Accelerated computing",
    "gpuNum": 4,
    "hideHardwareSpecs": false,
    "memoryGiB": 244,
    "name": "ml.p3.8xlarge",
    "vcpuNum": 32
   },
   {
    "_defaultOrder": 37,
    "_isFastLaunch": false,
    "category": "Accelerated computing",
    "gpuNum": 8,
    "hideHardwareSpecs": false,
    "memoryGiB": 488,
    "name": "ml.p3.16xlarge",
    "vcpuNum": 64
   },
   {
    "_defaultOrder": 38,
    "_isFastLaunch": false,
    "category": "Accelerated computing",
    "gpuNum": 8,
    "hideHardwareSpecs": false,
    "memoryGiB": 768,
    "name": "ml.p3dn.24xlarge",
    "vcpuNum": 96
   },
   {
    "_defaultOrder": 39,
    "_isFastLaunch": false,
    "category": "Memory Optimized",
    "gpuNum": 0,
    "hideHardwareSpecs": false,
    "memoryGiB": 16,
    "name": "ml.r5.large",
    "vcpuNum": 2
   },
   {
    "_defaultOrder": 40,
    "_isFastLaunch": false,
    "category": "Memory Optimized",
    "gpuNum": 0,
    "hideHardwareSpecs": false,
    "memoryGiB": 32,
    "name": "ml.r5.xlarge",
    "vcpuNum": 4
   },
   {
    "_defaultOrder": 41,
    "_isFastLaunch": false,
    "category": "Memory Optimized",
    "gpuNum": 0,
    "hideHardwareSpecs": false,
    "memoryGiB": 64,
    "name": "ml.r5.2xlarge",
    "vcpuNum": 8
   },
   {
    "_defaultOrder": 42,
    "_isFastLaunch": false,
    "category": "Memory Optimized",
    "gpuNum": 0,
    "hideHardwareSpecs": false,
    "memoryGiB": 128,
    "name": "ml.r5.4xlarge",
    "vcpuNum": 16
   },
   {
    "_defaultOrder": 43,
    "_isFastLaunch": false,
    "category": "Memory Optimized",
    "gpuNum": 0,
    "hideHardwareSpecs": false,
    "memoryGiB": 256,
    "name": "ml.r5.8xlarge",
    "vcpuNum": 32
   },
   {
    "_defaultOrder": 44,
    "_isFastLaunch": false,
    "category": "Memory Optimized",
    "gpuNum": 0,
    "hideHardwareSpecs": false,
    "memoryGiB": 384,
    "name": "ml.r5.12xlarge",
    "vcpuNum": 48
   },
   {
    "_defaultOrder": 45,
    "_isFastLaunch": false,
    "category": "Memory Optimized",
    "gpuNum": 0,
    "hideHardwareSpecs": false,
    "memoryGiB": 512,
    "name": "ml.r5.16xlarge",
    "vcpuNum": 64
   },
   {
    "_defaultOrder": 46,
    "_isFastLaunch": false,
    "category": "Memory Optimized",
    "gpuNum": 0,
    "hideHardwareSpecs": false,
    "memoryGiB": 768,
    "name": "ml.r5.24xlarge",
    "vcpuNum": 96
   },
   {
    "_defaultOrder": 47,
    "_isFastLaunch": false,
    "category": "Accelerated computing",
    "gpuNum": 1,
    "hideHardwareSpecs": false,
    "memoryGiB": 16,
    "name": "ml.g5.xlarge",
    "vcpuNum": 4
   },
   {
    "_defaultOrder": 48,
    "_isFastLaunch": false,
    "category": "Accelerated computing",
    "gpuNum": 1,
    "hideHardwareSpecs": false,
    "memoryGiB": 32,
    "name": "ml.g5.2xlarge",
    "vcpuNum": 8
   },
   {
    "_defaultOrder": 49,
    "_isFastLaunch": false,
    "category": "Accelerated computing",
    "gpuNum": 1,
    "hideHardwareSpecs": false,
    "memoryGiB": 64,
    "name": "ml.g5.4xlarge",
    "vcpuNum": 16
   },
   {
    "_defaultOrder": 50,
    "_isFastLaunch": false,
    "category": "Accelerated computing",
    "gpuNum": 1,
    "hideHardwareSpecs": false,
    "memoryGiB": 128,
    "name": "ml.g5.8xlarge",
    "vcpuNum": 32
   },
   {
    "_defaultOrder": 51,
    "_isFastLaunch": false,
    "category": "Accelerated computing",
    "gpuNum": 1,
    "hideHardwareSpecs": false,
    "memoryGiB": 256,
    "name": "ml.g5.16xlarge",
    "vcpuNum": 64
   },
   {
    "_defaultOrder": 52,
    "_isFastLaunch": false,
    "category": "Accelerated computing",
    "gpuNum": 4,
    "hideHardwareSpecs": false,
    "memoryGiB": 192,
    "name": "ml.g5.12xlarge",
    "vcpuNum": 48
   },
   {
    "_defaultOrder": 53,
    "_isFastLaunch": false,
    "category": "Accelerated computing",
    "gpuNum": 4,
    "hideHardwareSpecs": false,
    "memoryGiB": 384,
    "name": "ml.g5.24xlarge",
    "vcpuNum": 96
   },
   {
    "_defaultOrder": 54,
    "_isFastLaunch": false,
    "category": "Accelerated computing",
    "gpuNum": 8,
    "hideHardwareSpecs": false,
    "memoryGiB": 768,
    "name": "ml.g5.48xlarge",
    "vcpuNum": 192
   },
   {
    "_defaultOrder": 55,
    "_isFastLaunch": false,
    "category": "Accelerated computing",
    "gpuNum": 8,
    "hideHardwareSpecs": false,
    "memoryGiB": 1152,
    "name": "ml.p4d.24xlarge",
    "vcpuNum": 96
   },
   {
    "_defaultOrder": 56,
    "_isFastLaunch": false,
    "category": "Accelerated computing",
    "gpuNum": 8,
    "hideHardwareSpecs": false,
    "memoryGiB": 1152,
    "name": "ml.p4de.24xlarge",
    "vcpuNum": 96
   }
  ],
  "instance_type": "ml.t3.medium",
  "kernelspec": {
   "display_name": "Python 3 (Data Science 3.0)",
   "language": "python",
   "name": "python3__SAGEMAKER_INTERNAL__arn:aws:sagemaker:us-east-1:081325390199:image/sagemaker-data-science-310-v1"
  },
  "language_info": {
   "codemirror_mode": {
    "name": "ipython",
    "version": 3
   },
   "file_extension": ".py",
   "mimetype": "text/x-python",
   "name": "python",
   "nbconvert_exporter": "python",
   "pygments_lexer": "ipython3",
   "version": "3.10.6"
  }
 },
 "nbformat": 4,
 "nbformat_minor": 4
}
